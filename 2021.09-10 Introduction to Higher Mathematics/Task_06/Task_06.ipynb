{
 "cells": [
  {
   "cell_type": "markdown",
   "metadata": {},
   "source": [
    "# Практические задания к уроку 6 \n",
    "# Тема “Элементы теории вероятностей”\n",
    "https://docs.google.com/document/d/1k_2C5VrwHqN59XhHnHO8hyv_zRWTTKOW9YRpVw-loWE/"
   ]
  },
  {
   "cell_type": "code",
   "execution_count": 1,
   "metadata": {},
   "outputs": [],
   "source": [
    "from pylab import rcParams, rcParamsDefault\n",
    "import itertools\n",
    "import matplotlib.pyplot as plt\n",
    "import numpy as np"
   ]
  },
  {
   "cell_type": "markdown",
   "metadata": {},
   "source": [
    "## 1. Задание (теорема сложения)\n",
    "Найти вероятность выпадения 2 или 5 очков при подбрасывании игральной кости, на гранях которой имеются соответственно 1,2,3,4,5 и 6 очков."
   ]
  },
  {
   "cell_type": "markdown",
   "metadata": {},
   "source": [
    "#### Решение\n",
    "Вероятность выпадения любой грани для идельной (сбалансированной) кости = 1/6 (1 грань из 6 возможных). Вероятность выпадения 2 или 5 очков соответствует: $ 1/6 + 1/6 = 2/6 = 1/3 = 0,33(3)... $"
   ]
  },
  {
   "cell_type": "markdown",
   "metadata": {},
   "source": [
    "## 2. Задание (теорема умножения)\n",
    "Найти вероятность того, что при двух подбрасываниях той же самой игральной кости сначала выпадет 2, а затем 5."
   ]
  },
  {
   "cell_type": "markdown",
   "metadata": {},
   "source": [
    "#### Решение\n",
    "Вероятность выпадения любой грани для идельной (сбалансированной) кости при каждом броске = 1/6 (1 грань из 6 возможных). Соответственно, выпадение 2 очков при первом броске = 1/6, выпадение 5 очков при следующем броске также = 1/6, а вероятность выпадения 2 очков при первом броске и 5 очков при втором: $ 1/6 \\bullet 1/6 = 1/36 = 0,027(7)... $"
   ]
  },
  {
   "cell_type": "markdown",
   "metadata": {},
   "source": [
    "## 3. Задание \n",
    "Найти вероятность выпадения 2 и 5 очков при двух подбрасываниях той же самой игральной игральной кости. Обратите внимание на порядок выпадения костей!"
   ]
  },
  {
   "cell_type": "markdown",
   "metadata": {},
   "source": [
    "#### Решение\n",
    "Вероятность выпадения любой грани для идельной (сбалансированной) кости при каждом броске = 1/6 (1 грань из 6 возможных). Соответственно, по аналогии с предыдущей задачей: \n",
    "1. вероятность выпадения 2 очков при первом броске и 5 очков при втором: $ P1 = 1/6 \\bullet 1/6 = 1/36 = 0,027(7)... $\n",
    "2. вероятность выпадения 5 очков при первом броске и 2 очков при втором: $ P2 = 1/6 \\bullet 1/6 = 1/36 = 0,027(7)... $\n",
    "\n",
    "Таким образом мы получили два возможных случая #1 или #2 и общая вероятность составит:\n",
    "\n",
    "$ \\displaystyle P = P1 + P2 = \\frac{1}{36} + \\frac{1}{36} = \\frac{1}{18} = 0,055(5)... $"
   ]
  },
  {
   "cell_type": "markdown",
   "metadata": {},
   "source": [
    "## 4. Задание  (Геометрическая вероятность +интервалы)\n",
    "На отрезке AB длиной 20 см наугад отметили точку C. Какова вероятность, что она находится на расстоянии не более 9 см от точки А и не более 15 см от точки В?"
   ]
  },
  {
   "cell_type": "markdown",
   "metadata": {},
   "source": [
    "#### Решение\n",
    "Вероятность попасть в указанный отрезок составляет:\n",
    "\n",
    "$ \\displaystyle P = \\frac{(9 + 15 - 20)}{20} = \\frac{4}{20} = \\frac15 = 0.2  $"
   ]
  },
  {
   "cell_type": "code",
   "execution_count": 2,
   "metadata": {},
   "outputs": [
    {
     "data": {
      "image/png": "[encoded data removed]",
      "text/plain": [
       "<Figure size 1080x216 with 1 Axes>"
      ]
     },
     "metadata": {
      "needs_background": "light"
     },
     "output_type": "display_data"
    }
   ],
   "source": [
    "rcParams[\"figure.figsize\"] = rcParamsDefault[\"figure.figsize\"]\n",
    "rcParams[\"figure.figsize\"] = 15, 3\n",
    "\n",
    "plt.plot([0, 20], [0, 0], 'g', linewidth=4, label=f\"AB, 0-20\")\n",
    "plt.plot([5, 9], [0.1, 0.1], 'r', linewidth=4, label=f\"B'A', 5-9 - Искомая вероятность\")\n",
    "plt.plot([0, 9], [-0.1, -0.1], 'orange', linewidth=4, label=f\"AA', 0-9\")\n",
    "plt.plot([5, 20], [-0.2, -0.2], 'b', linewidth=4, label=f\"B'B, 5-20\")\n",
    "plt.plot([5, 5], [-0.2, 0.2], 'black', linewidth=4)\n",
    "plt.plot([9, 9], [-0.2, 0.2], 'black', linewidth=4)\n",
    "plt.plot([0, 0], [-0.2, 0.2], 'black', linewidth=4)\n",
    "plt.plot([20, 20], [-0.2, 0.2], 'black', linewidth=4)\n",
    "\n",
    "plt.legend(loc=\"best\", frameon=False)\n",
    "\n",
    "plt.text(0, 0.3, \"A\", ha='center', va='bottom')\n",
    "plt.text(0, -0.3, \"0\", ha='center', va='top')\n",
    "plt.text(9, 0.3, \"A'\", ha='center', va='bottom')\n",
    "plt.text(9, -0.3, \"9\", ha='center', va='top')\n",
    "plt.text(20, 0.3, \"B\", ha='center', va='bottom')\n",
    "plt.text(20, -0.3, \"20\", ha='center', va='top')\n",
    "plt.text(5, 0.3, \"B'\", ha='center', va='bottom')\n",
    "plt.text(5, -0.3, \"5\", ha='center', va='top')\n",
    "\n",
    "plt.axis('equal')\n",
    "plt.ylim(-1, 2)\n",
    "\n",
    "plt.show()"
   ]
  },
  {
   "cell_type": "markdown",
   "metadata": {},
   "source": [
    "## 5. Задание. \n",
    "Телефонный номер состоит из 7 цифр. Какова вероятность, что это номер 8882227?"
   ]
  },
  {
   "cell_type": "markdown",
   "metadata": {},
   "source": [
    "#### Решение\n",
    "Т.к. не указано ограничений на состав номера, то можем отметить, что всего существует 10 млн вариантов для составления телефонного номера из 7 цифр и каждый из вариантов номера (в том числе и указанный в задаче) можно собрать только одним единственным способом, а значит вероятность, что случайный номер является номером 8882227 составляет:\n",
    "\n",
    "$ P = 1/10000000 = 1 \\bullet 10 ^{-7} $"
   ]
  },
  {
   "cell_type": "markdown",
   "metadata": {},
   "source": [
    "## 6. Задание. \n",
    "Набирая номер телефона, абонент забыл 2 последние цифры, и, помня только то, что эти цифры различны и среди них нет нуля, стал набирать их наудачу. Сколько вариантов ему надо перебрать, чтобы наверняка найти нужный номер? Какова вероятность того, что он угадает номер с первого раза?"
   ]
  },
  {
   "cell_type": "markdown",
   "metadata": {},
   "source": [
    "#### Решение"
   ]
  },
  {
   "cell_type": "code",
   "execution_count": 3,
   "metadata": {},
   "outputs": [],
   "source": [
    "def arrangements(n, k):\n",
    "    return int(np.math.factorial(n) / np.math.factorial(n - k))"
   ]
  },
  {
   "cell_type": "markdown",
   "metadata": {},
   "source": [
    "Считаем число размещений из 9 по 2, т.к. важен порядок"
   ]
  },
  {
   "cell_type": "code",
   "execution_count": 4,
   "metadata": {},
   "outputs": [
    {
     "name": "stdout",
     "output_type": "stream",
     "text": [
      "Вариантов: 72\n",
      "['12' '13' '14' '15' '16' '17' '18' '19']\n",
      "['21' '23' '24' '25' '26' '27' '28' '29']\n",
      "['31' '32' '34' '35' '36' '37' '38' '39']\n",
      "['41' '42' '43' '45' '46' '47' '48' '49']\n",
      "['51' '52' '53' '54' '56' '57' '58' '59']\n",
      "['61' '62' '63' '64' '65' '67' '68' '69']\n",
      "['71' '72' '73' '74' '75' '76' '78' '79']\n",
      "['81' '82' '83' '84' '85' '86' '87' '89']\n",
      "['91' '92' '93' '94' '95' '96' '97' '98']\n"
     ]
    }
   ],
   "source": [
    "print('Вариантов:', arrangements(9, 2))\n",
    "for p in np.array([''.join(p) for p in itertools.permutations(\"123456789\", 2)]).reshape((-1, 8)):\n",
    "    print(p)"
   ]
  },
  {
   "cell_type": "markdown",
   "metadata": {},
   "source": [
    "Вероятность угадать последние две цифры номера с первого раза составляет 1/72 = 0,01388(8)..."
   ]
  },
  {
   "cell_type": "markdown",
   "metadata": {},
   "source": [
    "## 7. Задание** (необязательное) \n",
    "Чёрный куб покрасили снаружи белой краской, затем разрезали на 27 одинаковых маленьких кубиков и как попало сложили из них большой куб. С какой вероятностью все грани этого куба будут белыми?"
   ]
  },
  {
   "cell_type": "markdown",
   "metadata": {},
   "source": [
    "#### Решение\n",
    "Всего 27 кубиков в 4-ёх категориях (описываю относительно расположения в большом кубе):\n",
    "- a. В вершинах:\n",
    "    - 8 кубиков;\n",
    "    - 3 белых и 3 черных грани в каждом кубике;\n",
    "    - доля в кубе: 8/27.\n",
    "- b. На ребрах:\n",
    "    - 12 кубиков;\n",
    "    - 2 белых и 4 черных грани в каждом кубике;\n",
    "    - доля в кубе: 12/27.\n",
    "- c. В центре граней:\n",
    "    - 6 кубиков;\n",
    "    - 1 белая и 5 черных граней в каждом кубике;\n",
    "    - доля в кубе: 6/27.\n",
    "- d. В центре куба:\n",
    "    - 1 кубик;\n",
    "    - 0 белых и 6 черных граней в каждом кубике;\n",
    "    - доля в кубе: 1/27.\n",
    "    \n",
    "Буду считать вероятности как произведения вероятностей изъятия каждого кубика из кучи и вероятности верного расположения кубика в пространcтве при построении. Всего возможно 8 * 3 = 24 положения кубика в пространстве: 8 вершин на 3 относительных расположения прилегающих к вершине граней. Для разных категорий возможно следующее количество способов расположения кубика в пространстве для верной сборки большого куба:\n",
    "- a: 3 - фикированное расположение вершины\n",
    "- b: 2 - фикированное расположение ребра\n",
    "- c: 4 - фикированное расположение грани\n",
    "- d: 24 - не имеет значения, допустимы все варианты\n",
    "\n",
    "Соберём куб слой за слоем начиная с нижнего."
   ]
  },
  {
   "cell_type": "code",
   "execution_count": 5,
   "metadata": {},
   "outputs": [],
   "source": [
    "# Нижний слой: 4*a, 4*b, 1*c. Начинаем с угла, далее по кругу и последний в центр:\n",
    "# 1-ый множитель - количество оставшихся кубиков данной категории из всего оставшихся кубиков\n",
    "# 2-ой множитель - вероятность верного раположения кубика данной категории в пространстве\n",
    "\n",
    "p_bottom = [\n",
    "    8/27 * 3/24,   # a - исходное количество кубиков `a` - 8 шт, всех кубиков - 27\n",
    "    12/26 * 2/24,  # b - исходное количество кубиков `b` - 12 шт, оставшихся кубиков всего - 26\n",
    "    7/25 * 3/24,   # a - оставшееся количество кубиков `a` - 7 шт, оставшихся кубиков всего - 25\n",
    "    11/24 * 2/24,  # b - оставшееся количество кубиков `b` - 11 шт, оставшихся кубиков всего - 24\n",
    "    6/23 * 3/24,   # a - и т.д.\n",
    "    10/22 * 2/24,  # b\n",
    "    5/21 * 3/24,   # a\n",
    "    9/20 * 2/24,   # b\n",
    "    6/19 * 4/24    # c\n",
    "]"
   ]
  },
  {
   "cell_type": "code",
   "execution_count": 6,
   "metadata": {},
   "outputs": [],
   "source": [
    "# Средний слой: 4*b, 4*c, 1*d. Начинаем с угла, далее по кругу и последний в центр:\n",
    "p_middle = [\n",
    "    8/18 * 2/24,   # b\n",
    "    5/17 * 4/24,   # c\n",
    "    7/16 * 2/24,   # b\n",
    "    4/15 * 4/24,   # c\n",
    "    6/14 * 2/24,   # b\n",
    "    3/13 * 4/24,   # c\n",
    "    5/12 * 2/24,   # b\n",
    "    2/11 * 4/24,   # c\n",
    "    1/10 * 24/24   # d\n",
    "]"
   ]
  },
  {
   "cell_type": "code",
   "execution_count": 7,
   "metadata": {},
   "outputs": [],
   "source": [
    "# Верхний слой: 4*a, 4*b, 1*c. Начинаем с угла, далее по кругу и последний в центр:\n",
    "p_top = [\n",
    "    4/9 * 3/24,    # a\n",
    "    4/8 * 2/24,    # b\n",
    "    3/7 * 3/24,    # a\n",
    "    3/6 * 2/24,    # b\n",
    "    2/5 * 3/24,    # a\n",
    "    2/4 * 2/24,    # b\n",
    "    1/3 * 3/24,    # a\n",
    "    1/2 * 2/24,    # b\n",
    "    1/1 * 4/24     # c\n",
    "]"
   ]
  },
  {
   "cell_type": "code",
   "execution_count": 8,
   "metadata": {},
   "outputs": [
    {
     "data": {
      "text/plain": [
       "1.8298051356415017e-37"
      ]
     },
     "execution_count": 8,
     "metadata": {},
     "output_type": "execute_result"
    }
   ],
   "source": [
    "p = 1\n",
    "\n",
    "for i in p_bottom:\n",
    "    p *= i\n",
    "\n",
    "for i in p_middle:\n",
    "    p *= i\n",
    "    \n",
    "for i in p_top:\n",
    "    p *= i\n",
    "\n",
    "p"
   ]
  },
  {
   "cell_type": "markdown",
   "metadata": {},
   "source": [
    "ИЛИ"
   ]
  },
  {
   "cell_type": "markdown",
   "metadata": {},
   "source": [
    "$ \\displaystyle \\frac{8! \\bullet 12! \\bullet 6! \\bullet 1!}{27!} \\times \\frac{3^{8} \\bullet 2^{12} \\bullet 4^{6} \\bullet 24^{1}}{24^{27}} $"
   ]
  },
  {
   "cell_type": "code",
   "execution_count": 9,
   "metadata": {},
   "outputs": [],
   "source": [
    "fact = np.math.factorial"
   ]
  },
  {
   "cell_type": "code",
   "execution_count": 10,
   "metadata": {},
   "outputs": [
    {
     "data": {
      "text/plain": [
       "1.8298051356415021e-37"
      ]
     },
     "execution_count": 10,
     "metadata": {},
     "output_type": "execute_result"
    }
   ],
   "source": [
    "fact(8) * fact(12) * fact(6) * fact(1) / fact(27) * 3**8 * 2**12 * 4**6 * 24**1 / 24**27"
   ]
  }
 ],
 "metadata": {
  "kernelspec": {
   "display_name": "Python 3",
   "language": "python",
   "name": "python3"
  },
  "language_info": {
   "codemirror_mode": {
    "name": "ipython",
    "version": 3
   },
   "file_extension": ".py",
   "mimetype": "text/x-python",
   "name": "python",
   "nbconvert_exporter": "python",
   "pygments_lexer": "ipython3",
   "version": "3.8.5"
  }
 },
 "nbformat": 4,
 "nbformat_minor": 4
}
