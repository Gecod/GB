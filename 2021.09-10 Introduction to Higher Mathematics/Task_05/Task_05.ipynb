{
 "cells": [
  {
   "cell_type": "markdown",
   "metadata": {},
   "source": [
    "# Тема “Элементы теории вероятностей”\n",
    "https://docs.google.com/document/d/1UcT9ELM3p25ByAVUFDPd01tfcs4N0W23QY7otL_G5sc/"
   ]
  },
  {
   "cell_type": "code",
   "execution_count": 1,
   "metadata": {},
   "outputs": [],
   "source": [
    "import itertools\n",
    "import matplotlib.pyplot as plt\n",
    "import numpy as np"
   ]
  },
  {
   "cell_type": "markdown",
   "metadata": {},
   "source": [
    "## 1. Напишите код, моделирующий выпадение поля в рулетке (с учетом поля зеро)."
   ]
  },
  {
   "cell_type": "code",
   "execution_count": 2,
   "metadata": {},
   "outputs": [
    {
     "name": "stdout",
     "output_type": "stream",
     "text": [
      "\n",
      "black\t 8\n",
      "\n",
      "red\t 27\n",
      "\n",
      "red\t 3\n",
      "\n",
      "red\t 32\n",
      "\n",
      "red\t 21\n"
     ]
    }
   ],
   "source": [
    "black = {2, 4, 6, 8, 10, 11, 13, 15, 17, 20, 22, 24, 26, 28, 29, 31, 33, 35}\n",
    "\n",
    "for i in range(0, 5):\n",
    "    a = input()\n",
    "    x = np.random.randint(0, 37)\n",
    "    if x == 0:\n",
    "        print('green\\t', x)\n",
    "    elif x in black:\n",
    "        print('black\\t', x)\n",
    "    else:\n",
    "        print('red\\t', x)"
   ]
  },
  {
   "cell_type": "markdown",
   "metadata": {},
   "source": [
    "## 2.1. Напишите код, проверяющий любую из теорем сложения или умножения вероятности на примере рулетки или подбрасывания монетки."
   ]
  },
  {
   "cell_type": "code",
   "execution_count": 3,
   "metadata": {},
   "outputs": [],
   "source": [
    "#вероятность выпадения какого-либо набора полей в рулетке ('или')\n",
    "def casino_roulette(fields=['black', 'green', 'red']):\n",
    "    f_dict = {'black': 18/37, 'green': 1/37, 'red': 18/37}\n",
    "    proba = 0\n",
    "    for field in fields:\n",
    "        proba += f_dict[field]\n",
    "    return proba"
   ]
  },
  {
   "cell_type": "code",
   "execution_count": 4,
   "metadata": {},
   "outputs": [
    {
     "data": {
      "text/plain": [
       "0.5135135135135136"
      ]
     },
     "execution_count": 4,
     "metadata": {},
     "output_type": "execute_result"
    }
   ],
   "source": [
    "casino_roulette(['black', 'green'])"
   ]
  },
  {
   "cell_type": "code",
   "execution_count": 5,
   "metadata": {},
   "outputs": [
    {
     "data": {
      "text/plain": [
       "0.4864864864864865"
      ]
     },
     "execution_count": 5,
     "metadata": {},
     "output_type": "execute_result"
    }
   ],
   "source": [
    "casino_roulette(['black'])"
   ]
  },
  {
   "cell_type": "code",
   "execution_count": 6,
   "metadata": {},
   "outputs": [
    {
     "data": {
      "text/plain": [
       "0.972972972972973"
      ]
     },
     "execution_count": 6,
     "metadata": {},
     "output_type": "execute_result"
    }
   ],
   "source": [
    "casino_roulette(['black', 'red'])"
   ]
  },
  {
   "cell_type": "markdown",
   "metadata": {},
   "source": [
    "## 2.2. Сгенерируйте десять выборок случайных чисел х0, …, х9 и постройте гистограмму распределения случайной суммы  +х0+ …+ х 9. "
   ]
  },
  {
   "cell_type": "code",
   "execution_count": 7,
   "metadata": {},
   "outputs": [
    {
     "data": {
      "image/png": "[encoded data removed]",
      "text/plain": [
       "<Figure size 432x288 with 1 Axes>"
      ]
     },
     "metadata": {
      "needs_background": "light"
     },
     "output_type": "display_data"
    }
   ],
   "source": [
    "summ = []\n",
    "for i in range(10):\n",
    "    summ.append(np.sum(np.random.rand(10)))\n",
    "\n",
    "plt.hist(summ)\n",
    "plt.show()"
   ]
  },
  {
   "cell_type": "markdown",
   "metadata": {},
   "source": [
    "## 3.1. Дополните код Монте-Карло последовательности независимых испытаний расчетом соответствующих вероятностей (через биномиальное распределение) и сравните результаты."
   ]
  },
  {
   "cell_type": "code",
   "execution_count": 8,
   "metadata": {},
   "outputs": [],
   "source": [
    "def combinations(n, k):\n",
    "    return int(np.math.factorial(n) / (np.math.factorial(k) * np.math.factorial(n - k)))\n",
    "\n",
    "def bernulli(p, n, k):\n",
    "    return combinations(n, k) * p ** k * (1 - p) ** (n - k)"
   ]
  },
  {
   "cell_type": "code",
   "execution_count": 9,
   "metadata": {},
   "outputs": [
    {
     "name": "stdout",
     "output_type": "stream",
     "text": [
      "3662 10000 0.3662 0.375\n"
     ]
    }
   ],
   "source": [
    "k, n = 0, 10000\n",
    "a = np.random.randint(0, 2, n)\n",
    "b = np.random.randint(0, 2, n)\n",
    "c = np.random.randint(0, 2, n)\n",
    "d = np.random.randint(0, 2, n)\n",
    "x = a + b + c + d\n",
    "for i in range(0, n):\n",
    "    if x[i] == 2:\n",
    "        k = k + 1\n",
    "# v=(0.5**k)*(0.5**(n-k))\n",
    "#print(a, b, c, d)\n",
    "#print(x)\n",
    "print(k, n, k/n, bernulli(p=0.5, n=4, k=2))"
   ]
  },
  {
   "cell_type": "markdown",
   "metadata": {},
   "source": [
    "## 3.2. Повторите расчеты биномиальных коэффициентов и вероятностей k успехов в последовательности из n независимых испытаний, взяв другие значения n и k."
   ]
  },
  {
   "cell_type": "code",
   "execution_count": 10,
   "metadata": {},
   "outputs": [],
   "source": [
    "def monte_carlo(n_, n, k):\n",
    "    a = np.array([np.random.randint(0, 2, n_) for i in range(n)])\n",
    "    x = np.sum(a, axis=0)\n",
    "    k_ = 0\n",
    "    for i in range(0, n_):\n",
    "        if x[i] == k:\n",
    "            k_ += 1\n",
    "\n",
    "    return '{:5d} {} {:5.3f} {:5.3f}'.format(k_, n_, k_/n_, bernulli(p=0.5, n=n, k=k))"
   ]
  },
  {
   "cell_type": "code",
   "execution_count": 11,
   "metadata": {},
   "outputs": [
    {
     "name": "stdout",
     "output_type": "stream",
     "text": [
      "0   663 10000 0.066 0.062\n",
      "1  2458 10000 0.246 0.250\n",
      "2  3782 10000 0.378 0.375\n",
      "3  2445 10000 0.244 0.250\n",
      "4   578 10000 0.058 0.062\n"
     ]
    }
   ],
   "source": [
    "for i in range(5):\n",
    "    print(i, monte_carlo(10000, 4, i))"
   ]
  },
  {
   "cell_type": "code",
   "execution_count": 12,
   "metadata": {},
   "outputs": [
    {
     "name": "stdout",
     "output_type": "stream",
     "text": [
      "0   149 10000 0.015 0.016\n",
      "1   919 10000 0.092 0.094\n",
      "2  2381 10000 0.238 0.234\n",
      "3  3111 10000 0.311 0.312\n",
      "4  2372 10000 0.237 0.234\n",
      "5   908 10000 0.091 0.094\n",
      "6   158 10000 0.016 0.016\n"
     ]
    }
   ],
   "source": [
    "for i in range(7):\n",
    "    print(i, monte_carlo(10000, 6, i))"
   ]
  },
  {
   "cell_type": "markdown",
   "metadata": {},
   "source": [
    "## 4. Из урока по комбинаторике повторите расчеты, сгенерировав возможные варианты перестановок для других значений n и k"
   ]
  },
  {
   "cell_type": "code",
   "execution_count": 13,
   "metadata": {},
   "outputs": [],
   "source": [
    "def arrangements(n, k):\n",
    "    return int(np.math.factorial(n) / np.math.factorial(n - k))"
   ]
  },
  {
   "cell_type": "code",
   "execution_count": 14,
   "metadata": {},
   "outputs": [],
   "source": [
    "def permutations(n):\n",
    "    return np.math.factorial(n)"
   ]
  },
  {
   "cell_type": "code",
   "execution_count": 15,
   "metadata": {},
   "outputs": [
    {
     "name": "stdout",
     "output_type": "stream",
     "text": [
      "Вариантов: 3\n",
      "1\n",
      "2\n",
      "3\n"
     ]
    }
   ],
   "source": [
    "#сочетания\n",
    "print('Вариантов:', combinations(3, 1))\n",
    "for p in itertools.combinations(\"123\", 1):\n",
    "    print(''.join(p))"
   ]
  },
  {
   "cell_type": "code",
   "execution_count": 16,
   "metadata": {},
   "outputs": [
    {
     "name": "stdout",
     "output_type": "stream",
     "text": [
      "Вариантов: 3\n",
      "12\n",
      "13\n",
      "23\n"
     ]
    }
   ],
   "source": [
    "#сочетания\n",
    "print('Вариантов:', combinations(3, 2))\n",
    "for p in itertools.combinations(\"123\", 2):\n",
    "    print(''.join(p))"
   ]
  },
  {
   "cell_type": "code",
   "execution_count": 17,
   "metadata": {},
   "outputs": [
    {
     "name": "stdout",
     "output_type": "stream",
     "text": [
      "Вариантов: 1\n",
      "123\n"
     ]
    }
   ],
   "source": [
    "#сочетания\n",
    "print('Вариантов:', combinations(3, 3))\n",
    "for p in itertools.combinations(\"123\", 3):\n",
    "    print(''.join(p))"
   ]
  },
  {
   "cell_type": "code",
   "execution_count": 18,
   "metadata": {},
   "outputs": [
    {
     "name": "stdout",
     "output_type": "stream",
     "text": [
      "Вариантов: 3\n",
      "1\n",
      "2\n",
      "3\n"
     ]
    }
   ],
   "source": [
    "#размещения\n",
    "print('Вариантов:', arrangements(3, 1))\n",
    "for p in itertools.permutations(\"123\", 1):\n",
    "    print(''.join(p))"
   ]
  },
  {
   "cell_type": "code",
   "execution_count": 19,
   "metadata": {},
   "outputs": [
    {
     "name": "stdout",
     "output_type": "stream",
     "text": [
      "Вариантов: 6\n",
      "12\n",
      "13\n",
      "21\n",
      "23\n",
      "31\n",
      "32\n"
     ]
    }
   ],
   "source": [
    "#размещения\n",
    "print('Вариантов:', arrangements(3, 2))\n",
    "for p in itertools.permutations(\"123\", 2):\n",
    "    print(''.join(p))"
   ]
  },
  {
   "cell_type": "code",
   "execution_count": 20,
   "metadata": {},
   "outputs": [
    {
     "name": "stdout",
     "output_type": "stream",
     "text": [
      "Вариантов: 6 или 6\n",
      "123\n",
      "132\n",
      "213\n",
      "231\n",
      "312\n",
      "321\n"
     ]
    }
   ],
   "source": [
    "#перестановка\n",
    "print('Вариантов:', arrangements(3, 3), 'или', permutations(3))\n",
    "for p in itertools.permutations(\"123\", 3):\n",
    "    print(''.join(str(x) for x in p))"
   ]
  },
  {
   "cell_type": "markdown",
   "metadata": {},
   "source": [
    "## 5. Дополните код расчетом коэффициента корреляции x и y по формуле\n",
    "$\\displaystyle R = \\frac{\\Sigma(x_i - x_m)(y_i - y_m)}{\\sqrt{\\Sigma(x_i - x_m)^2\\Sigma(y_i - y_m)^2}} $"
   ]
  },
  {
   "cell_type": "code",
   "execution_count": 21,
   "metadata": {},
   "outputs": [
    {
     "name": "stdout",
     "output_type": "stream",
     "text": [
      "0.6890121887384708 0.15665246377615297\n",
      "0.6890121887384728 0.15665246377615186\n",
      "0.9274595331730094\n"
     ]
    },
    {
     "data": {
      "image/png": "[encoded data removed]",
      "text/plain": [
       "<Figure size 432x288 with 1 Axes>"
      ]
     },
     "metadata": {
      "needs_background": "light"
     },
     "output_type": "display_data"
    }
   ],
   "source": [
    "n = 100\n",
    "r = 0.7\n",
    "x = np.random.rand(n)\n",
    "y = r*x + (1 - r)*np.random.rand(n)\n",
    "plt.plot(x, y, 'o')\n",
    "plt.xlabel('x')\n",
    "plt.ylabel('y')\n",
    "plt.grid(True)\n",
    "\n",
    "a = (np.sum(x)*np.sum(y) - n*np.sum(x*y))/(np.sum(x)*np.sum(x) - n*np.sum(x*x))\n",
    "b = (np.sum(y) - a*np.sum(x))/n\n",
    "\n",
    "A = np.vstack([x, np.ones(len(x))]).T\n",
    "a1, b1 = np.linalg.lstsq(A, y, rcond=None)[0]\n",
    "print(a, b)\n",
    "print(a1, b1)\n",
    "\n",
    "R = np.sum((x - np.mean(x))*(y - np.mean(y))) / \\\n",
    "    np.sqrt(np.sum((x - np.mean(x))**2)*np.sum((y - np.mean(y))**2))\n",
    "print(R)\n",
    "\n",
    "plt.plot([0, 1], [b, a + b])\n",
    "plt.show()"
   ]
  }
 ],
 "metadata": {
  "kernelspec": {
   "display_name": "Python 3",
   "language": "python",
   "name": "python3"
  },
  "language_info": {
   "codemirror_mode": {
    "name": "ipython",
    "version": 3
   },
   "file_extension": ".py",
   "mimetype": "text/x-python",
   "name": "python",
   "nbconvert_exporter": "python",
   "pygments_lexer": "ipython3",
   "version": "3.8.5"
  }
 },
 "nbformat": 4,
 "nbformat_minor": 4
}
