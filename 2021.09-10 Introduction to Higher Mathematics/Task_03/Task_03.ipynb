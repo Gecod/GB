{
 "cells": [
  {
   "cell_type": "markdown",
   "metadata": {},
   "source": [
    "## 1. Задание"
   ]
  },
  {
   "cell_type": "markdown",
   "metadata": {},
   "source": [
    "Даны два вектора в трехмерном пространстве: (10,10,10) и (0,0,-10)"
   ]
  },
  {
   "cell_type": "markdown",
   "metadata": {},
   "source": [
    "1) Найдите их сумму. (на листочке) \n",
    "\n",
    "$\\overrightarrow{a}$ = (10, 10, 10)\n",
    "\n",
    "$\\overrightarrow{b}$ = (0, 0, -10)\n",
    "\n",
    "$\\overrightarrow{a} + \\overrightarrow{b}$ = (10+0, 10+0, 10+(-10)) = (10, 10, 0)"
   ]
  },
  {
   "cell_type": "markdown",
   "metadata": {},
   "source": [
    "2) Напишите код на Python, реализующий расчет длины вектора, заданного его координатами. (в программе)"
   ]
  },
  {
   "cell_type": "code",
   "execution_count": 1,
   "metadata": {},
   "outputs": [],
   "source": [
    "def calc_3d_vector_length(coord_start, coord_end):\n",
    "    vec_len = ((coord_end[0] - coord_start[0]) ** 2 + \n",
    "               (coord_end[1] - coord_start[1]) ** 2 + \n",
    "               (coord_end[2] - coord_start[2]) ** 2) ** 0.5\n",
    "    return vec_len"
   ]
  },
  {
   "cell_type": "code",
   "execution_count": 2,
   "metadata": {},
   "outputs": [],
   "source": [
    "a_start = (10,10,10) \n",
    "a_end = (0,0,-10)"
   ]
  },
  {
   "cell_type": "code",
   "execution_count": 3,
   "metadata": {},
   "outputs": [
    {
     "name": "stdout",
     "output_type": "stream",
     "text": [
      "24.49489742783178\n"
     ]
    }
   ],
   "source": [
    "print(calc_3d_vector_length(a_start, a_end))"
   ]
  },
  {
   "cell_type": "markdown",
   "metadata": {},
   "source": [
    "## 2. Задание (на листочке)"
   ]
  },
  {
   "cell_type": "markdown",
   "metadata": {},
   "source": [
    "Почему прямые не кажутся перпендикулярными? (см.ролик)\n",
    "\n",
    "<img src=\"Task_03_01.png\" alt=\"Drawing\" style=\"width: 400px;\">"
   ]
  },
  {
   "cell_type": "markdown",
   "metadata": {},
   "source": [
    "Прямые не кажутся перпендикулярными, потому что масштабы осей отличаются друг от друга. Попробую повторить код и изобразить линии на осях с одинаковым масштабом "
   ]
  },
  {
   "cell_type": "code",
   "execution_count": 1,
   "metadata": {},
   "outputs": [],
   "source": [
    "%matplotlib inline\n",
    "import numpy as np\n",
    "import matplotlib.pyplot as plt\n",
    "from pylab import rcParams"
   ]
  },
  {
   "cell_type": "code",
   "execution_count": 7,
   "metadata": {},
   "outputs": [
    {
     "data": {
      "image/png": "[encoded data removed]",
      "text/plain": [
       "<Figure size 360x360 with 1 Axes>"
      ]
     },
     "metadata": {
      "needs_background": "light"
     },
     "output_type": "display_data"
    }
   ],
   "source": [
    "rcParams[\"figure.figsize\"] = 5, 5\n",
    "\n",
    "x=np.linspace(-5, 5, 21)\n",
    "y1 = 3 * x + 1\n",
    "y2 = (-1 / 3) * x + 1\n",
    "\n",
    "plt.plot(x, y1, label=f\"y1\")\n",
    "plt.plot(x, y2, label=f\"y2\")\n",
    "\n",
    "plt.xlabel(\"Переменная x\")\n",
    "plt.ylabel(\"Функция f(x)\")\n",
    "\n",
    "plt.legend(loc=\"upper left\", frameon=False)\n",
    "\n",
    "plt.axis([-5, 5, -4, 6])\n",
    "\n",
    "plt.show()"
   ]
  },
  {
   "cell_type": "markdown",
   "metadata": {},
   "source": [
    "На графике выше видно, что линии перпендикулярны."
   ]
  },
  {
   "cell_type": "code",
   "execution_count": null,
   "metadata": {},
   "outputs": [],
   "source": []
  }
 ],
 "metadata": {
  "kernelspec": {
   "display_name": "Python 3",
   "language": "python",
   "name": "python3"
  },
  "language_info": {
   "codemirror_mode": {
    "name": "ipython",
    "version": 3
   },
   "file_extension": ".py",
   "mimetype": "text/x-python",
   "name": "python",
   "nbconvert_exporter": "python",
   "pygments_lexer": "ipython3",
   "version": "3.8.5"
  }
 },
 "nbformat": 4,
 "nbformat_minor": 4
}
