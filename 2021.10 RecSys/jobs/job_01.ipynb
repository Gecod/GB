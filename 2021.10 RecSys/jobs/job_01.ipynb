{
 "cells": [
  {
   "cell_type": "markdown",
   "metadata": {
    "id": "40b-1kBbo1hY"
   },
   "source": [
    "## Основные типы задач:\n",
    "    \n",
    "**Рекомендация топ-К товаров**: Дан список товаров. Рекомендовать пользователю K товаров, которые ему понравятся\n",
    "    - e-mail рассылки (М.Видео, Hoff, Пятерочка)\n",
    "    - push-уведомления (Delivery Club, HeadHunter, Виктория)\n",
    "    - Рекомендации в отдельном окне на сайте (vk, okko)\n",
    "\n",
    "**Ранжирование товаров**: Дан список товаров. Нужно его отранжировать в порядке убывания интереса для пользователя\n",
    "    - Ранжирование каталога товаров (Wildberries, Lamoda)\n",
    "    - Ранжирование ленты (vk, Я.Дзен)\n",
    "    - Ранжирование поисковой выдачи (Яндекс, Гугл)\n",
    "    - Ранжирование \"каруселей\" товаров (Delivery Club, Я.Еда)\n",
    "    \n",
    "**Поиск похожих товаров**: Дан 1 товар. Нужно найти наиболее похожие на него товары\n",
    "    - \"Вам также может понравиться\" (Ozon, Циан)\n",
    "    - Похожим пользователям понравилось (vk)\n",
    "    - Вы можете быть знакомы (vk, facebook)\n",
    "    \n",
    "**Рекомендация дополнителдьного товара**. Дан 1 товар. Найти товары, которые покупают вместе с этим товаром\n",
    "    - С этим товаром часто покупают (Я.Маркет, Ozon, М.Видео)\n",
    "    \n",
    "   \n",
    "---\n",
    "На 7 вебинаре мы разберем рекомендательные системы из HeadHunter, Я.Дзен и vk"
   ]
  },
  {
   "cell_type": "markdown",
   "metadata": {
    "id": "iwXCUigno1hy"
   },
   "source": [
    "### 1. hit_rate_at_k"
   ]
  },
  {
   "cell_type": "code",
   "execution_count": 15,
   "metadata": {
    "id": "bxqcDo_vo1hh"
   },
   "outputs": [],
   "source": [
    "import numpy as np \n",
    "recommended_list = [143, 156, 1134, 991, 27, 1543, 3345, 533, 11, 43] #id товаров\n",
    "bought_list = [521, 32, 143, 991]"
   ]
  },
  {
   "cell_type": "code",
   "execution_count": 27,
   "metadata": {
    "id": "UdC9moeIo1ho"
   },
   "outputs": [],
   "source": [
    "def hit_rate(recommended_list, bought_list):\n",
    "    \n",
    "    bought_list = np.array(bought_list)\n",
    "    recommended_list = np.array(recommended_list)\n",
    "    \n",
    "    flags = np.isin(bought_list, recommended_list)\n",
    "    \n",
    "    hit_rate = flags.sum()\n",
    "    \n",
    "    return hit_rate\n",
    "\n",
    "\n",
    "def hit_rate_at_k(recommended_list, bought_list, k=5):\n",
    "    \n",
    "    # your_code\n",
    "    return hit_rate(recommended_list[:k], bought_list)"
   ]
  },
  {
   "cell_type": "code",
   "execution_count": 28,
   "metadata": {
    "id": "cQXLlorio1hs",
    "outputId": "1d1b69db-3909-4fe1-e600-e900847bb26d"
   },
   "outputs": [
    {
     "data": {
      "text/plain": [
       "2"
      ]
     },
     "execution_count": 28,
     "metadata": {},
     "output_type": "execute_result"
    }
   ],
   "source": [
    "hit_rate(recommended_list, bought_list)"
   ]
  },
  {
   "cell_type": "code",
   "execution_count": 29,
   "metadata": {
    "id": "cQXLlorio1hs",
    "outputId": "1d1b69db-3909-4fe1-e600-e900847bb26d"
   },
   "outputs": [
    {
     "data": {
      "text/plain": [
       "1"
      ]
     },
     "execution_count": 29,
     "metadata": {},
     "output_type": "execute_result"
    }
   ],
   "source": [
    "hit_rate_at_k(recommended_list, bought_list, 3)"
   ]
  },
  {
   "cell_type": "markdown",
   "metadata": {
    "id": "iwXCUigno1hy"
   },
   "source": [
    "### 2. money_precision_at_k"
   ]
  },
  {
   "cell_type": "code",
   "execution_count": 61,
   "metadata": {
    "id": "bDZRoYivo1h1"
   },
   "outputs": [],
   "source": [
    "def precision(recommended_list, bought_list):\n",
    "    \n",
    "    bought_list = np.array(bought_list)\n",
    "    recommended_list = np.array(recommended_list)\n",
    "    \n",
    "    flags = np.isin(bought_list, recommended_list)\n",
    "    \n",
    "    precision = flags.sum() / len(recommended_list)\n",
    "    \n",
    "    return precision\n",
    "\n",
    "\n",
    "def precision_at_k(recommended_list, bought_list, k=5):\n",
    "    \n",
    "    bought_list = np.array(bought_list)\n",
    "    recommended_list = np.array(recommended_list)\n",
    "    \n",
    "    bought_list = bought_list  # Тут нет [:k] !!\n",
    "    recommended_list = recommended_list[:k]\n",
    "    \n",
    "    flags = np.isin(bought_list, recommended_list)\n",
    "    \n",
    "    precision = flags.sum() / len(recommended_list)\n",
    "    \n",
    "    return precision\n",
    "\n",
    "\n",
    "def money_precision_at_k(recommended_list, bought_list, prices_recommended, k=5):\n",
    "        \n",
    "    # your_code\n",
    "    # Лучше считать через скалярное произведение, а не цикл\n",
    "    \n",
    "    bought_list = np.array(bought_list)\n",
    "    recommended_list = np.array(recommended_list)\n",
    "    prices_recommended = np.array(prices_recommended)\n",
    "    \n",
    "    bought_list = bought_list  # Тут нет [:k] !!\n",
    "    recommended_list = recommended_list[:k]\n",
    "    prices_recommended = prices_recommended[:k]\n",
    "    \n",
    "    flags = np.isin(bought_list, recommended_list)\n",
    "    \n",
    "    money_precision = np.sum(flags * prices_recommended) / np.sum(np.ones(len(flags)) * prices_recommended)\n",
    "    \n",
    "    return money_precision"
   ]
  },
  {
   "cell_type": "markdown",
   "metadata": {
    "id": "iwXCUigno1hy"
   },
   "source": [
    "### 3. recall_at_k"
   ]
  },
  {
   "cell_type": "markdown",
   "metadata": {
    "id": "iwXCUigno1hy"
   },
   "source": [
    "### 4. money_recall_at_k"
   ]
  },
  {
   "cell_type": "markdown",
   "metadata": {
    "id": "iwXCUigno1hy"
   },
   "source": [
    "### 5. map_k"
   ]
  },
  {
   "cell_type": "markdown",
   "metadata": {
    "id": "iwXCUigno1hy"
   },
   "source": [
    "### 6. * NDCG@k"
   ]
  },
  {
   "cell_type": "markdown",
   "metadata": {
    "id": "iwXCUigno1hy"
   },
   "source": [
    "### 7. reciprocal_rank"
   ]
  },
  {
   "cell_type": "markdown",
   "metadata": {
    "id": "NfVd3dnCo1iN"
   },
   "source": [
    "### 3. Recall\n",
    "\n",
    "*Recall* - доля рекомендованных товаров среди релевантных = Какой % купленных товаров был среди рекомендованных\n",
    "\n",
    "- Обычно используется для моделей пре-фильтрации товаров (убрать те товары, которые точно не будем рекомендовать)\n",
    "\n",
    "---\n",
    "\n",
    "Recall= (# of recommended items that are relevant) / (# of relevant items)  \n",
    "\n",
    "Recall@k = (# of recommended items @k that are relevant) / (# of relevant items)\n",
    "\n",
    "Money Recall@k = (revenue of recommended items @k that are relevant) / (revenue of relevant items)  \n",
    "\n",
    "    \n",
    "  \n",
    "**Note:** в recall@k число k обычно достаточно большое (50-200), больше чем покупок у среднестатистического юзера"
   ]
  },
  {
   "cell_type": "code",
   "execution_count": null,
   "metadata": {
    "id": "g2sl_HTfo1iS"
   },
   "outputs": [],
   "source": [
    "def recall(recommended_list, bought_list):\n",
    "    \n",
    "    bought_list = np.array(bought_list)\n",
    "    recommended_list = np.array(recommended_list)\n",
    "    \n",
    "    flags = np.isin(bought_list, recommended_list)\n",
    "    \n",
    "    recall = flags.sum() / len(bought_list)\n",
    "    \n",
    "    return recall\n",
    "\n",
    "\n",
    "def recall_at_k(recommended_list, bought_list, k=5):\n",
    "    \n",
    "    # your_code\n",
    "    \n",
    "    return recall\n",
    "\n",
    "\n",
    "def money_recall_at_k(recommended_list, bought_list, prices_recommended, prices_bought, k=5):\n",
    "    \n",
    "    # your_code\n",
    "    \n",
    "    return recall"
   ]
  },
  {
   "cell_type": "code",
   "execution_count": null,
   "metadata": {
    "id": "kd4I_xqvo1iX",
    "outputId": "2e90ab42-c647-4087-c536-454d10f5f305"
   },
   "outputs": [
    {
     "data": {
      "text/plain": [
       "0.5"
      ]
     },
     "execution_count": 20,
     "metadata": {
      "tags": []
     },
     "output_type": "execute_result"
    }
   ],
   "source": [
    "recall(recommended_list, bought_list)"
   ]
  },
  {
   "cell_type": "markdown",
   "metadata": {
    "id": "A-9Go3EOo1ib"
   },
   "source": [
    "---"
   ]
  },
  {
   "cell_type": "markdown",
   "metadata": {
    "id": "p06Ri8-go1ic"
   },
   "source": [
    "# Метрики ранжирования"
   ]
  },
  {
   "cell_type": "markdown",
   "metadata": {
    "id": "Rnd4DCp5o1id"
   },
   "source": [
    "Если важен порядок рекомендаций. Подробнее можно почитать [здесь](https://habr.com/ru/company/econtenta/blog/303458/). Формулы в статье могут несколько отличаться от формул в лекции "
   ]
  },
  {
   "cell_type": "markdown",
   "metadata": {
    "id": "F95YT0wwo1id"
   },
   "source": [
    "## AP@k\n",
    "AP@k - average precision at k\n",
    "\n",
    "$$AP@k = \\frac{1}{r} \\sum{[recommended_{relevant_i}] * precision@k}$$\n",
    "\n",
    "- r - кол-во релевантный среди рекомендованных\n",
    "- Суммируем по всем релевантным товарам\n",
    "- Зависит от порядка реокмендаций"
   ]
  },
  {
   "cell_type": "code",
   "execution_count": null,
   "metadata": {
    "id": "HfAfQgGRo1ie"
   },
   "outputs": [],
   "source": [
    "def ap_k(recommended_list, bought_list, k=5):\n",
    "    \n",
    "    bought_list = np.array(bought_list)\n",
    "    recommended_list = np.array(recommended_list)\n",
    "    \n",
    "    flags = np.isin(recommended_list, bought_list)\n",
    "    \n",
    "    if sum(flags) == 0:\n",
    "        return 0\n",
    "    \n",
    "    sum_ = 0\n",
    "    for i in range(1, k+1):\n",
    "        \n",
    "        if flags[i] == True:\n",
    "            p_k = precision_at_k(recommended_list, bought_list, k=i)\n",
    "            sum_ += p_k\n",
    "            \n",
    "    result = sum_ / sum(flags)\n",
    "    \n",
    "    return result"
   ]
  },
  {
   "cell_type": "code",
   "execution_count": null,
   "metadata": {
    "id": "iBa1KbKio1il",
    "outputId": "ef35fc0c-ed47-45df-ab7c-81b5f46477d9"
   },
   "outputs": [
    {
     "data": {
      "text/plain": [
       "0.16666666666666666"
      ]
     },
     "execution_count": 62,
     "metadata": {
      "tags": []
     },
     "output_type": "execute_result"
    }
   ],
   "source": [
    "ap_k(recommended_list, bought_list, k=5)"
   ]
  },
  {
   "cell_type": "markdown",
   "metadata": {
    "id": "GyKVp_A_o1ip"
   },
   "source": [
    "### MAP@k\n",
    "\n",
    "MAP@k (Mean Average Precision@k)  \n",
    "Среднее AP@k по всем юзерам\n",
    "- Показывает средневзвешенную точность рекомендаций\n",
    "\n",
    "$$MAP@k = \\frac{1}{|U|} \\sum_u{AP_k}$$\n",
    "  \n",
    "|U| - кол-во юзеров"
   ]
  },
  {
   "cell_type": "code",
   "execution_count": null,
   "metadata": {
    "id": "heZq-3_Vo1iq"
   },
   "outputs": [],
   "source": [
    "def map_k(recommended_list, bought_list, k=5):\n",
    "    \n",
    "    # your_code\n",
    "    \n",
    "    return result"
   ]
  },
  {
   "cell_type": "markdown",
   "metadata": {
    "id": "Ziy893rxo1iw"
   },
   "source": [
    "### AUC@k\n",
    "AUC для первых k наблюдений  \n",
    "- Можно посчитать как sklern.metrics.roc_auc_score для топ-k предсказаний\n",
    "- Показывает долю верно отранжированных товаров"
   ]
  },
  {
   "cell_type": "markdown",
   "metadata": {
    "id": "-aRUBub7o1ix"
   },
   "source": [
    "### NDCG@k\n",
    "Normalized discounted cumulative gain\n",
    "\n",
    "$$DCG = \\frac{1}{|r|} \\sum_u{\\frac{[bought fact]}{discount(i)}}$$  \n",
    "\n",
    "$discount(i) = 1$ if $i <= 2$,   \n",
    "$discount(i) = log_2(i)$ if $i > 2$\n",
    "\n",
    "\n",
    "(!) Считаем для первых k рекоммендаций   \n",
    "(!) - существуют вариации с другими $discount(i)$  \n",
    "i - ранк рекомендованного товара  \n",
    "|r| - кол-во рекомендованных товаров \n",
    "\n",
    "$$NDCG = \\frac{DCG}{ideal DCG}$$\n"
   ]
  },
  {
   "cell_type": "code",
   "execution_count": null,
   "metadata": {
    "id": "njQIUE-xo1iy"
   },
   "outputs": [],
   "source": [
    "recommended_list = [143, 156, 1134, 991, 27, 1543, 3345, 533, 11, 43] #id товаров\n",
    "bought_list = [521, 32, 143, 991]"
   ]
  },
  {
   "cell_type": "markdown",
   "metadata": {
    "id": "zHpCD4lKo1i1"
   },
   "source": [
    "$DCG@5 = \\frac{1}{5}*(1 / 1 + 0 / 2 + 0 / log(3) + 1 / log(4) + 0 / log(5))$  \n",
    "$ideal DCG@5 = \\frac{1}{5}*(1 / 1 + 1 / 2 + 1 / log(3) + 1 / log(4) + 1 / log(5))$  \n",
    "\n",
    "$NDCG = \\frac{DCG}{ideal DCG}$"
   ]
  },
  {
   "cell_type": "markdown",
   "metadata": {
    "id": "T7Y-Jtcdo1i6"
   },
   "source": [
    "### MRR@k\n",
    "Mean Reciprocal Rank\n",
    "\n",
    "- Считаем для первых k рекоммендаций\n",
    "- Найти ранк первого релевантного предсказания $k_u$\n",
    "- Посчитать reciprocal rank = $\\frac{1}{k_u}$\n",
    "\n",
    "$$MRR = mean(\\frac{1}{k_u})$$"
   ]
  },
  {
   "cell_type": "code",
   "execution_count": null,
   "metadata": {
    "id": "i56NVR0Qo1i6"
   },
   "outputs": [],
   "source": [
    "def reciprocal_rank(recommended_list, bought_list):\n",
    "    # your_code\n",
    "    return result"
   ]
  },
  {
   "cell_type": "markdown",
   "metadata": {
    "id": "ZM-4TlgWo1i-"
   },
   "source": [
    "\n",
    "\n"
   ]
  },
  {
   "cell_type": "markdown",
   "metadata": {
    "id": "DlPGKta8o1i_"
   },
   "source": [
    "# 3. Связь бизнес-метрик, ML-метрик и функции потерь(loss)"
   ]
  },
  {
   "cell_type": "markdown",
   "metadata": {
    "id": "uOUGeoTco1i_"
   },
   "source": [
    "- **loss** - то, что оптимизирует модель (RMSE - Root Mean Squared Error)\n",
    "- **ML-метрика** - то, как мы измеряем качество на test (money precision@5)\n",
    "- **Бизнес-метрика** - то, что хочет оптимизировать бизнес (выручка)\n",
    "\n",
    "В идеале loss = ML-метрика = бизнес-метрика, но это возмонжо в очень редких случаях\n",
    "\n",
    "Надеемся, что:  \n",
    "    *Оптимизация loss --> рост ML-метрик --> рост бизнес-метрик*"
   ]
  },
  {
   "cell_type": "markdown",
   "metadata": {
    "id": "P9bMXLKro1jA"
   },
   "source": [
    "### Пример: рекомендательная система товаров на сайте  \n",
    "      \n",
    "На сайте есть баннер, на котором мы можем разместить 5 товаров. Надо порекомендовать эти 5 товаров персонально каждому юзеру\n",
    "\n",
    "*Шаг 1: Определим бизнес-метрику*  \n",
    "Бизнес хочет максимизировать выручку --> бизнес-метрика - **Выручка**  \n",
    "\n",
    "*Шаг 2: Разложим ее на составляющие*  \n",
    "Выручка =   \n",
    "       Средний чек * кол-во покупок =   \n",
    "       Средний чек * (число юзеров * конверсия из захода на сайт в заказ) =\n",
    "       Число юзеров * (Средний чек * конверсия из захода на сайт в заказ)\n",
    "       \n",
    "Рекомендательная система влияет только на (Средний чек * конверсия из захода на сайт в заказ).   \n",
    "Хорошим приближением этого является **money precision@5** - ML-метрика\n",
    "\n",
    "*Шаг 3: loss*  \n",
    "Это существенно сложнее. Персонализированные ML-модели не умеют напрямую оптимизировать конверсию. Стандартный loss - **RMSE**. Можно для начала попробовать его. \n",
    "\n",
    "P.S. Если вы хотите приблизить RMSE к money precision@5, то можно посчитать weighted RMSE, где вес каждого наблюдения = стоимость товара.   \n",
    "P.S.S. Про другие виды loss будет рассказано в курсе"
   ]
  }
 ],
 "metadata": {
  "colab": {
   "name": "webinar_1.ipynb",
   "provenance": []
  },
  "kernelspec": {
   "display_name": "Python 3",
   "language": "python",
   "name": "python3"
  },
  "language_info": {
   "codemirror_mode": {
    "name": "ipython",
    "version": 3
   },
   "file_extension": ".py",
   "mimetype": "text/x-python",
   "name": "python",
   "nbconvert_exporter": "python",
   "pygments_lexer": "ipython3",
   "version": "3.8.5"
  }
 },
 "nbformat": 4,
 "nbformat_minor": 1
}
